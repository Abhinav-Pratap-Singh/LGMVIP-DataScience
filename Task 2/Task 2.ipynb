{
 "cells": [
  {
   "cell_type": "markdown",
   "id": "c9fa2778",
   "metadata": {},
   "source": [
    "# Data Science Intern @Lets Grow More \n",
    "\n",
    "## Developer :Abhinav Pratap Singh\n",
    "\n",
    "## Task 2 : Image to Pencil Sketch"
   ]
  },
  {
   "cell_type": "code",
   "execution_count": 1,
   "id": "7991aa1b",
   "metadata": {},
   "outputs": [],
   "source": [
    "import cv2\n",
    "# importing library packages"
   ]
  },
  {
   "cell_type": "code",
   "execution_count": 2,
   "id": "7b92596b",
   "metadata": {},
   "outputs": [],
   "source": [
    "img = cv2.imread(\"CAR.jpg\")\n",
    "gray_img=cv2.cvtColor(img,cv2.COLOR_BGR2GRAY)\n",
    "invert=cv2.bitwise_not(gray_img)\n",
    "blur=cv2.GaussianBlur(invert, (41,41), 0)\n",
    "inverted_blur=cv2.bitwise_not(blur)\n",
    "sketch=cv2.divide(gray_img,inverted_blur, scale=256.0)"
   ]
  },
  {
   "cell_type": "code",
   "execution_count": 3,
   "id": "0643f5a0",
   "metadata": {},
   "outputs": [
    {
     "data": {
      "text/plain": [
       "-1"
      ]
     },
     "execution_count": 3,
     "metadata": {},
     "output_type": "execute_result"
    }
   ],
   "source": [
    "cv2.imshow(\"Car-Origial Image\",img)\n",
    "cv2.waitKey(0)"
   ]
  },
  {
   "cell_type": "code",
   "execution_count": 4,
   "id": "b8b0a052",
   "metadata": {},
   "outputs": [
    {
     "data": {
      "text/plain": [
       "-1"
      ]
     },
     "execution_count": 4,
     "metadata": {},
     "output_type": "execute_result"
    }
   ],
   "source": [
    "cv2.imshow(\"Car\", gray_img)\n",
    "cv2.waitKey(0)"
   ]
  },
  {
   "cell_type": "code",
   "execution_count": 5,
   "id": "c84633db",
   "metadata": {},
   "outputs": [
    {
     "data": {
      "text/plain": [
       "-1"
      ]
     },
     "execution_count": 5,
     "metadata": {},
     "output_type": "execute_result"
    }
   ],
   "source": [
    "cv2.imshow(\"Inverted\", invert)\n",
    "cv2.waitKey()"
   ]
  },
  {
   "cell_type": "code",
   "execution_count": 6,
   "id": "2b55bcbc",
   "metadata": {},
   "outputs": [
    {
     "data": {
      "text/plain": [
       "-1"
      ]
     },
     "execution_count": 6,
     "metadata": {},
     "output_type": "execute_result"
    }
   ],
   "source": [
    "cv2.imshow(\"Sketch\",sketch)\n",
    "cv2.waitKey(0)"
   ]
  }
 ],
 "metadata": {
  "kernelspec": {
   "display_name": "Python 3",
   "language": "python",
   "name": "python3"
  },
  "language_info": {
   "codemirror_mode": {
    "name": "ipython",
    "version": 3
   },
   "file_extension": ".py",
   "mimetype": "text/x-python",
   "name": "python",
   "nbconvert_exporter": "python",
   "pygments_lexer": "ipython3",
   "version": "3.8.8"
  }
 },
 "nbformat": 4,
 "nbformat_minor": 5
}
