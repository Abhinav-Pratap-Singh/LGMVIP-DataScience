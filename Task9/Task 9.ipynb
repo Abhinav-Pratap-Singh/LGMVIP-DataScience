{
 "cells": [
  {
   "cell_type": "markdown",
   "id": "298b5ddd",
   "metadata": {},
   "source": [
    "# Data Science Intern @Lets Grow More \n",
    "# September\n",
    "\n",
    "## Developer :Abhinav Pratap Singh\n",
    "\n",
    "\n",
    "# Task 9: Equation Solver"
   ]
  },
  {
   "cell_type": "code",
   "execution_count": 1,
   "id": "fda7f22e",
   "metadata": {},
   "outputs": [],
   "source": [
    "import numpy as np\n",
    "import cv2\n",
    "from PIL import Image\n",
    "from matplotlib import pyplot as plt\n",
    "%matplotlib inline\n",
    "import os\n",
    "from os import listdir\n",
    "from os.path import isfile, join\n",
    "import pandas as pd"
   ]
  },
  {
   "cell_type": "code",
   "execution_count": 2,
   "id": "8397fc16",
   "metadata": {},
   "outputs": [],
   "source": [
    "def load_images_from_folder(folder):\n",
    "    train_data=[]\n",
    "    for filename in os.listdir(folder):\n",
    "        img = cv2.imread(os.path.join(folder,filename),cv2.IMREAD_GRAYSCALE)\n",
    "        img=~img\n",
    "        if img is not None:\n",
    "            ret,thresh=cv2.threshold(img,127,255,cv2.THRESH_BINARY)\n",
    "\n",
    "            ctrs,ret=cv2.findContours(thresh,cv2.RETR_EXTERNAL,cv2.CHAIN_APPROX_NONE)\n",
    "            cnt=sorted(ctrs, key=lambda ctr: cv2.boundingRect(ctr)[0])\n",
    "            w=int(28)\n",
    "            h=int(28)\n",
    "            maxi=0\n",
    "            for c in cnt:\n",
    "                x,y,w,h=cv2.boundingRect(c)\n",
    "                maxi=max(w*h,maxi)\n",
    "                if maxi==w*h:\n",
    "                    x_max=x\n",
    "                    y_max=y\n",
    "                    w_max=w\n",
    "                    h_max=h\n",
    "            im_crop= thresh[y_max:y_max+h_max+10, x_max:x_max+w_max+10]\n",
    "            im_resize = cv2.resize(im_crop,(28,28))\n",
    "            im_resize=np.reshape(im_resize,(784,1))\n",
    "            train_data.append(im_resize)\n",
    "    return train_data"
   ]
  },
  {
   "cell_type": "code",
   "execution_count": 3,
   "id": "d144e270",
   "metadata": {},
   "outputs": [],
   "source": [
    "data = []"
   ]
  },
  {
   "cell_type": "code",
   "execution_count": 4,
   "id": "bc26bce2",
   "metadata": {},
   "outputs": [
    {
     "name": "stdout",
     "output_type": "stream",
     "text": [
      "6914\n"
     ]
    }
   ],
   "source": [
    "# images under '0' folder\n",
    "data=load_images_from_folder(\"D:\\\\INTERNSHIPS\\\\LGM\\\\Task-9\\\\extracted_images\\\\0\\\\\")\n",
    "len(data)\n",
    "for i in range(0,len(data)):\n",
    "    data[i]=np.append(data[i],['0'])\n",
    "\n",
    "print(len(data))"
   ]
  },
  {
   "cell_type": "code",
   "execution_count": 5,
   "id": "99001073",
   "metadata": {},
   "outputs": [
    {
     "name": "stdout",
     "output_type": "stream",
     "text": [
      "33434\n"
     ]
    }
   ],
   "source": [
    "# images under '1' folder\n",
    "data1=load_images_from_folder(\"D:\\\\INTERNSHIPS\\\\LGM\\\\Task-9\\\\extracted_images\\\\1\\\\\")\n",
    "\n",
    "for i in range(0,len(data1)):\n",
    "    data1[i]=np.append(data1[i],['1'])\n",
    "data=np.concatenate((data,data1))\n",
    "print(len(data))"
   ]
  },
  {
   "cell_type": "code",
   "execution_count": 6,
   "id": "32144580",
   "metadata": {},
   "outputs": [
    {
     "name": "stdout",
     "output_type": "stream",
     "text": [
      "59575\n"
     ]
    }
   ],
   "source": [
    "# images under '2' folder\n",
    "data2=load_images_from_folder(\"D:\\\\INTERNSHIPS\\\\LGM\\\\Task-9\\\\extracted_images\\\\2\\\\\")\n",
    "\n",
    "for i in range(0,len(data2)):\n",
    "    data2[i]=np.append(data2[i],['2'])\n",
    "data=np.concatenate((data,data2))\n",
    "print(len(data))"
   ]
  },
  {
   "cell_type": "code",
   "execution_count": 7,
   "id": "1509becf",
   "metadata": {},
   "outputs": [
    {
     "name": "stdout",
     "output_type": "stream",
     "text": [
      "70484\n"
     ]
    }
   ],
   "source": [
    "# images under '3' folder\n",
    "data3=load_images_from_folder(\"D:\\\\INTERNSHIPS\\\\LGM\\\\Task-9\\\\extracted_images\\\\3\\\\\")\n",
    "\n",
    "for i in range(0,len(data3)):\n",
    "    data3[i]=np.append(data3[i],['3'])\n",
    "data=np.concatenate((data,data3))\n",
    "print(len(data))"
   ]
  },
  {
   "cell_type": "code",
   "execution_count": 8,
   "id": "829eb030",
   "metadata": {},
   "outputs": [
    {
     "name": "stdout",
     "output_type": "stream",
     "text": [
      "77880\n"
     ]
    }
   ],
   "source": [
    "# images under '4' folder\n",
    "data4=load_images_from_folder(\"D:\\\\INTERNSHIPS\\\\LGM\\\\Task-9\\\\extracted_images\\\\4\\\\\")\n",
    "\n",
    "for i in range(0,len(data4)):\n",
    "    data4[i]=np.append(data4[i],['4'])\n",
    "data=np.concatenate((data,data4))\n",
    "print(len(data))"
   ]
  },
  {
   "cell_type": "code",
   "execution_count": 9,
   "id": "2407ca56",
   "metadata": {},
   "outputs": [
    {
     "name": "stdout",
     "output_type": "stream",
     "text": [
      "81425\n"
     ]
    }
   ],
   "source": [
    "# images under '5' folder\n",
    "data5=load_images_from_folder(\"D:\\\\INTERNSHIPS\\\\LGM\\\\Task-9\\\\extracted_images\\\\5\\\\\")\n",
    "\n",
    "for i in range(0,len(data5)):\n",
    "    data5[i]=np.append(data5[i],['5'])\n",
    "data=np.concatenate((data,data5))\n",
    "print(len(data))"
   ]
  },
  {
   "cell_type": "code",
   "execution_count": 10,
   "id": "b668df2c",
   "metadata": {},
   "outputs": [
    {
     "name": "stdout",
     "output_type": "stream",
     "text": [
      "84543\n"
     ]
    }
   ],
   "source": [
    "# images under '6' folder\n",
    "data6=load_images_from_folder(\"D:\\\\INTERNSHIPS\\\\LGM\\\\Task-9\\\\extracted_images\\\\6\\\\\")\n",
    "\n",
    "for i in range(0,len(data6)):\n",
    "    data6[i]=np.append(data6[i],['6'])\n",
    "data=np.concatenate((data,data6))\n",
    "print(len(data))"
   ]
  },
  {
   "cell_type": "code",
   "execution_count": 11,
   "id": "0aecb62b",
   "metadata": {},
   "outputs": [
    {
     "name": "stdout",
     "output_type": "stream",
     "text": [
      "87452\n"
     ]
    }
   ],
   "source": [
    "# images under '7' folder\n",
    "data7=load_images_from_folder(\"D:\\\\INTERNSHIPS\\\\LGM\\\\Task-9\\\\extracted_images\\\\7\\\\\")\n",
    "\n",
    "for i in range(0,len(data7)):\n",
    "    data7[i]=np.append(data7[i],['7'])\n",
    "data=np.concatenate((data,data7))\n",
    "print(len(data))"
   ]
  },
  {
   "cell_type": "code",
   "execution_count": 12,
   "id": "ee48a37f",
   "metadata": {},
   "outputs": [
    {
     "name": "stdout",
     "output_type": "stream",
     "text": [
      "90520\n"
     ]
    }
   ],
   "source": [
    "# images under '8' folder\n",
    "data8=load_images_from_folder(\"D:\\\\INTERNSHIPS\\\\LGM\\\\Task-9\\\\extracted_images\\\\8\\\\\")\n",
    "\n",
    "for i in range(0,len(data8)):\n",
    "    data8[i]=np.append(data8[i],['8'])\n",
    "data=np.concatenate((data,data8))\n",
    "print(len(data))"
   ]
  },
  {
   "cell_type": "code",
   "execution_count": 13,
   "id": "13683f85",
   "metadata": {},
   "outputs": [
    {
     "name": "stdout",
     "output_type": "stream",
     "text": [
      "94257\n"
     ]
    }
   ],
   "source": [
    "# images under '9' folder\n",
    "data9=load_images_from_folder(\"D:\\\\INTERNSHIPS\\\\LGM\\\\Task-9\\\\extracted_images\\\\9\\\\\")\n",
    "\n",
    "for i in range(0,len(data9)):\n",
    "    data9[i]=np.append(data9[i],['9'])\n",
    "data=np.concatenate((data,data9))\n",
    "print(len(data))"
   ]
  },
  {
   "cell_type": "code",
   "execution_count": 14,
   "id": "34ce37f8",
   "metadata": {},
   "outputs": [
    {
     "name": "stdout",
     "output_type": "stream",
     "text": [
      "128254\n"
     ]
    }
   ],
   "source": [
    "#assigning images under '-' folder=10\n",
    "data10=load_images_from_folder(\"D:\\\\INTERNSHIPS\\\\LGM\\\\Task-9\\\\extracted_images\\\\-\\\\\")\n",
    "\n",
    "for i in range(0,len(data10)):\n",
    "    data10[i]=np.append(data10[i],['10'])\n",
    "data=np.concatenate((data,data10))    \n",
    "print(len(data))"
   ]
  },
  {
   "cell_type": "code",
   "execution_count": 15,
   "id": "0acabaa0",
   "metadata": {},
   "outputs": [
    {
     "name": "stdout",
     "output_type": "stream",
     "text": [
      "153366\n"
     ]
    }
   ],
   "source": [
    "#assigning images under '+' folder = 11\n",
    "data11=load_images_from_folder(\"D:\\\\INTERNSHIPS\\\\LGM\\\\Task-9\\\\extracted_images\\\\+\\\\\")\n",
    "\n",
    "for i in range(0,len(data11)):\n",
    "    data11[i]=np.append(data11[i],['11'])\n",
    "data=np.concatenate((data,data11))\n",
    "print(len(data))"
   ]
  },
  {
   "cell_type": "code",
   "execution_count": 16,
   "id": "dc03da47",
   "metadata": {},
   "outputs": [
    {
     "name": "stdout",
     "output_type": "stream",
     "text": [
      "156617\n"
     ]
    }
   ],
   "source": [
    "#assigning images under 'times' folder(multiplication) = 12\n",
    "data12=load_images_from_folder(\"D:\\\\INTERNSHIPS\\\\LGM\\\\Task-9\\\\extracted_images\\\\times\\\\\")\n",
    "\n",
    "for i in range(0,len(data12)):\n",
    "    data12[i]=np.append(data12[i],['12'])\n",
    "data=np.concatenate((data,data12))\n",
    "print(len(data))"
   ]
  },
  {
   "cell_type": "code",
   "execution_count": 17,
   "id": "902037e5",
   "metadata": {},
   "outputs": [],
   "source": [
    "df=pd.DataFrame(data,index=None)\n",
    "df.to_csv('train_final.csv',index=False)"
   ]
  },
  {
   "cell_type": "markdown",
   "id": "5ce4a5b1",
   "metadata": {},
   "source": [
    "<p style=\"font-size:22px\"><b>Part-2,  Model Training in notebook = <br><br>\n",
    "    \"LGM VIP-September 2021  TASK-8___Part-2(model training)\"</b></p>"
   ]
  }
 ],
 "metadata": {
  "kernelspec": {
   "display_name": "Python 3",
   "language": "python",
   "name": "python3"
  },
  "language_info": {
   "codemirror_mode": {
    "name": "ipython",
    "version": 3
   },
   "file_extension": ".py",
   "mimetype": "text/x-python",
   "name": "python",
   "nbconvert_exporter": "python",
   "pygments_lexer": "ipython3",
   "version": "3.8.8"
  },
  "toc": {
   "base_numbering": 1,
   "nav_menu": {},
   "number_sections": true,
   "sideBar": true,
   "skip_h1_title": false,
   "title_cell": "Table of Contents",
   "title_sidebar": "Contents",
   "toc_cell": false,
   "toc_position": {},
   "toc_section_display": true,
   "toc_window_display": false
  }
 },
 "nbformat": 4,
 "nbformat_minor": 5
}
