{
 "cells": [
  {
   "cell_type": "markdown",
   "metadata": {},
   "source": [
    "# Data Science Intern @Lets Grow More \n",
    "# September"
   ]
  },
  {
   "cell_type": "markdown",
   "metadata": {},
   "source": [
    "# Developer :Abhinav Pratap Singh\n"
   ]
  },
  {
   "cell_type": "markdown",
   "metadata": {},
   "source": [
    "# Task 2 :Stock Prices Prediction Using LSTM"
   ]
  },
  {
   "cell_type": "markdown",
   "metadata": {},
   "source": [
    "## Importing necessary libraries"
   ]
  },
  {
   "cell_type": "code",
   "execution_count": 1,
   "metadata": {},
   "outputs": [],
   "source": [
    "import numpy as np\n",
    "import matplotlib.pyplot as plt\n",
    "import pandas as pd"
   ]
  },
  {
   "cell_type": "code",
   "execution_count": 2,
   "metadata": {},
   "outputs": [],
   "source": [
    "# Importing the training set\n",
    "data = pd.read_csv('NSE-TATAGLOBAL.csv')\n",
    "train_data = data.iloc[:, 1:2].values"
   ]
  },
  {
   "cell_type": "markdown",
   "metadata": {},
   "source": [
    "## Data Exploration"
   ]
  },
  {
   "cell_type": "code",
   "execution_count": 3,
   "metadata": {},
   "outputs": [
    {
     "data": {
      "text/html": [
       "<div>\n",
       "<style scoped>\n",
       "    .dataframe tbody tr th:only-of-type {\n",
       "        vertical-align: middle;\n",
       "    }\n",
       "\n",
       "    .dataframe tbody tr th {\n",
       "        vertical-align: top;\n",
       "    }\n",
       "\n",
       "    .dataframe thead th {\n",
       "        text-align: right;\n",
       "    }\n",
       "</style>\n",
       "<table border=\"1\" class=\"dataframe\">\n",
       "  <thead>\n",
       "    <tr style=\"text-align: right;\">\n",
       "      <th></th>\n",
       "      <th>Date</th>\n",
       "      <th>Open</th>\n",
       "      <th>High</th>\n",
       "      <th>Low</th>\n",
       "      <th>Last</th>\n",
       "      <th>Close</th>\n",
       "      <th>Total Trade Quantity</th>\n",
       "      <th>Turnover (Lacs)</th>\n",
       "    </tr>\n",
       "  </thead>\n",
       "  <tbody>\n",
       "    <tr>\n",
       "      <th>0</th>\n",
       "      <td>2018-09-28</td>\n",
       "      <td>234.05</td>\n",
       "      <td>235.95</td>\n",
       "      <td>230.20</td>\n",
       "      <td>233.50</td>\n",
       "      <td>233.75</td>\n",
       "      <td>3069914</td>\n",
       "      <td>7162.35</td>\n",
       "    </tr>\n",
       "    <tr>\n",
       "      <th>1</th>\n",
       "      <td>2018-09-27</td>\n",
       "      <td>234.55</td>\n",
       "      <td>236.80</td>\n",
       "      <td>231.10</td>\n",
       "      <td>233.80</td>\n",
       "      <td>233.25</td>\n",
       "      <td>5082859</td>\n",
       "      <td>11859.95</td>\n",
       "    </tr>\n",
       "    <tr>\n",
       "      <th>2</th>\n",
       "      <td>2018-09-26</td>\n",
       "      <td>240.00</td>\n",
       "      <td>240.00</td>\n",
       "      <td>232.50</td>\n",
       "      <td>235.00</td>\n",
       "      <td>234.25</td>\n",
       "      <td>2240909</td>\n",
       "      <td>5248.60</td>\n",
       "    </tr>\n",
       "    <tr>\n",
       "      <th>3</th>\n",
       "      <td>2018-09-25</td>\n",
       "      <td>233.30</td>\n",
       "      <td>236.75</td>\n",
       "      <td>232.00</td>\n",
       "      <td>236.25</td>\n",
       "      <td>236.10</td>\n",
       "      <td>2349368</td>\n",
       "      <td>5503.90</td>\n",
       "    </tr>\n",
       "    <tr>\n",
       "      <th>4</th>\n",
       "      <td>2018-09-24</td>\n",
       "      <td>233.55</td>\n",
       "      <td>239.20</td>\n",
       "      <td>230.75</td>\n",
       "      <td>234.00</td>\n",
       "      <td>233.30</td>\n",
       "      <td>3423509</td>\n",
       "      <td>7999.55</td>\n",
       "    </tr>\n",
       "  </tbody>\n",
       "</table>\n",
       "</div>"
      ],
      "text/plain": [
       "         Date    Open    High     Low    Last   Close  Total Trade Quantity  \\\n",
       "0  2018-09-28  234.05  235.95  230.20  233.50  233.75               3069914   \n",
       "1  2018-09-27  234.55  236.80  231.10  233.80  233.25               5082859   \n",
       "2  2018-09-26  240.00  240.00  232.50  235.00  234.25               2240909   \n",
       "3  2018-09-25  233.30  236.75  232.00  236.25  236.10               2349368   \n",
       "4  2018-09-24  233.55  239.20  230.75  234.00  233.30               3423509   \n",
       "\n",
       "   Turnover (Lacs)  \n",
       "0          7162.35  \n",
       "1         11859.95  \n",
       "2          5248.60  \n",
       "3          5503.90  \n",
       "4          7999.55  "
      ]
     },
     "execution_count": 3,
     "metadata": {},
     "output_type": "execute_result"
    }
   ],
   "source": [
    "data.head()\n"
   ]
  },
  {
   "cell_type": "code",
   "execution_count": 4,
   "metadata": {},
   "outputs": [
    {
     "data": {
      "text/html": [
       "<div>\n",
       "<style scoped>\n",
       "    .dataframe tbody tr th:only-of-type {\n",
       "        vertical-align: middle;\n",
       "    }\n",
       "\n",
       "    .dataframe tbody tr th {\n",
       "        vertical-align: top;\n",
       "    }\n",
       "\n",
       "    .dataframe thead th {\n",
       "        text-align: right;\n",
       "    }\n",
       "</style>\n",
       "<table border=\"1\" class=\"dataframe\">\n",
       "  <thead>\n",
       "    <tr style=\"text-align: right;\">\n",
       "      <th></th>\n",
       "      <th>Date</th>\n",
       "      <th>Open</th>\n",
       "      <th>High</th>\n",
       "      <th>Low</th>\n",
       "      <th>Last</th>\n",
       "      <th>Close</th>\n",
       "      <th>Total Trade Quantity</th>\n",
       "      <th>Turnover (Lacs)</th>\n",
       "    </tr>\n",
       "  </thead>\n",
       "  <tbody>\n",
       "    <tr>\n",
       "      <th>2030</th>\n",
       "      <td>2010-07-27</td>\n",
       "      <td>117.6</td>\n",
       "      <td>119.50</td>\n",
       "      <td>112.00</td>\n",
       "      <td>118.80</td>\n",
       "      <td>118.65</td>\n",
       "      <td>586100</td>\n",
       "      <td>694.98</td>\n",
       "    </tr>\n",
       "    <tr>\n",
       "      <th>2031</th>\n",
       "      <td>2010-07-26</td>\n",
       "      <td>120.1</td>\n",
       "      <td>121.00</td>\n",
       "      <td>117.10</td>\n",
       "      <td>117.10</td>\n",
       "      <td>117.60</td>\n",
       "      <td>658440</td>\n",
       "      <td>780.01</td>\n",
       "    </tr>\n",
       "    <tr>\n",
       "      <th>2032</th>\n",
       "      <td>2010-07-23</td>\n",
       "      <td>121.8</td>\n",
       "      <td>121.95</td>\n",
       "      <td>120.25</td>\n",
       "      <td>120.35</td>\n",
       "      <td>120.65</td>\n",
       "      <td>281312</td>\n",
       "      <td>340.31</td>\n",
       "    </tr>\n",
       "    <tr>\n",
       "      <th>2033</th>\n",
       "      <td>2010-07-22</td>\n",
       "      <td>120.3</td>\n",
       "      <td>122.00</td>\n",
       "      <td>120.25</td>\n",
       "      <td>120.75</td>\n",
       "      <td>120.90</td>\n",
       "      <td>293312</td>\n",
       "      <td>355.17</td>\n",
       "    </tr>\n",
       "    <tr>\n",
       "      <th>2034</th>\n",
       "      <td>2010-07-21</td>\n",
       "      <td>122.1</td>\n",
       "      <td>123.00</td>\n",
       "      <td>121.05</td>\n",
       "      <td>121.10</td>\n",
       "      <td>121.55</td>\n",
       "      <td>658666</td>\n",
       "      <td>803.56</td>\n",
       "    </tr>\n",
       "  </tbody>\n",
       "</table>\n",
       "</div>"
      ],
      "text/plain": [
       "            Date   Open    High     Low    Last   Close  Total Trade Quantity  \\\n",
       "2030  2010-07-27  117.6  119.50  112.00  118.80  118.65                586100   \n",
       "2031  2010-07-26  120.1  121.00  117.10  117.10  117.60                658440   \n",
       "2032  2010-07-23  121.8  121.95  120.25  120.35  120.65                281312   \n",
       "2033  2010-07-22  120.3  122.00  120.25  120.75  120.90                293312   \n",
       "2034  2010-07-21  122.1  123.00  121.05  121.10  121.55                658666   \n",
       "\n",
       "      Turnover (Lacs)  \n",
       "2030           694.98  \n",
       "2031           780.01  \n",
       "2032           340.31  \n",
       "2033           355.17  \n",
       "2034           803.56  "
      ]
     },
     "execution_count": 4,
     "metadata": {},
     "output_type": "execute_result"
    }
   ],
   "source": [
    "data.tail()"
   ]
  },
  {
   "cell_type": "code",
   "execution_count": 5,
   "metadata": {},
   "outputs": [
    {
     "name": "stdout",
     "output_type": "stream",
     "text": [
      "<class 'pandas.core.frame.DataFrame'>\n",
      "RangeIndex: 2035 entries, 0 to 2034\n",
      "Data columns (total 8 columns):\n",
      " #   Column                Non-Null Count  Dtype  \n",
      "---  ------                --------------  -----  \n",
      " 0   Date                  2035 non-null   object \n",
      " 1   Open                  2035 non-null   float64\n",
      " 2   High                  2035 non-null   float64\n",
      " 3   Low                   2035 non-null   float64\n",
      " 4   Last                  2035 non-null   float64\n",
      " 5   Close                 2035 non-null   float64\n",
      " 6   Total Trade Quantity  2035 non-null   int64  \n",
      " 7   Turnover (Lacs)       2035 non-null   float64\n",
      "dtypes: float64(6), int64(1), object(1)\n",
      "memory usage: 127.3+ KB\n"
     ]
    }
   ],
   "source": [
    "data.info()"
   ]
  },
  {
   "cell_type": "markdown",
   "metadata": {},
   "source": [
    "## Feature Scaling\n"
   ]
  },
  {
   "cell_type": "code",
   "execution_count": 6,
   "metadata": {},
   "outputs": [],
   "source": [
    "from sklearn.preprocessing import MinMaxScaler\n",
    "sc = MinMaxScaler(feature_range = (0, 1))\n",
    "training_set_scaled = sc.fit_transform(train_data)"
   ]
  },
  {
   "cell_type": "code",
   "execution_count": 7,
   "metadata": {},
   "outputs": [],
   "source": [
    "X_train = []\n",
    "y_train = []\n",
    "for i in range(60, 2035):\n",
    "    X_train.append(training_set_scaled[i-60:i, 0])\n",
    "    y_train.append(training_set_scaled[i, 0])\n",
    "X_train, y_train = np.array(X_train), np.array(y_train)"
   ]
  },
  {
   "cell_type": "markdown",
   "metadata": {},
   "source": [
    "## Reshaping\n"
   ]
  },
  {
   "cell_type": "code",
   "execution_count": 8,
   "metadata": {},
   "outputs": [],
   "source": [
    "X_train = np.reshape(X_train, (X_train.shape[0], X_train.shape[1], 1))"
   ]
  },
  {
   "cell_type": "markdown",
   "metadata": {},
   "source": [
    "## Building the RNN"
   ]
  },
  {
   "cell_type": "code",
   "execution_count": 9,
   "metadata": {},
   "outputs": [],
   "source": [
    "# Importing the Keras libraries and packages\n",
    "from keras.models import Sequential\n",
    "from keras.layers import Dense\n",
    "from keras.layers import LSTM\n",
    "from keras.layers import Dropout"
   ]
  },
  {
   "cell_type": "markdown",
   "metadata": {},
   "source": [
    "## Initialising the RNN"
   ]
  },
  {
   "cell_type": "code",
   "execution_count": 10,
   "metadata": {},
   "outputs": [],
   "source": [
    "\n",
    "regressor = Sequential()\n",
    "\n",
    "# Adding the first LSTM layer and some Dropout regularisation\n",
    "regressor.add(LSTM(units = 50, return_sequences = True, input_shape = (X_train.shape[1], 1)))\n",
    "regressor.add(Dropout(0.2))"
   ]
  },
  {
   "cell_type": "code",
   "execution_count": 11,
   "metadata": {},
   "outputs": [],
   "source": [
    "# Adding a second LSTM layer and some Dropout regularisation\n",
    "regressor.add(LSTM(units = 50, return_sequences = True))\n",
    "regressor.add(Dropout(0.2))"
   ]
  },
  {
   "cell_type": "code",
   "execution_count": 12,
   "metadata": {},
   "outputs": [],
   "source": [
    "\n",
    "# Adding a third LSTM layer and some Dropout regularisation\n",
    "regressor.add(LSTM(units = 50, return_sequences = True))\n",
    "regressor.add(Dropout(0.2))"
   ]
  },
  {
   "cell_type": "code",
   "execution_count": 13,
   "metadata": {},
   "outputs": [],
   "source": [
    "# Adding a fourth LSTM layer and some Dropout regularisation\n",
    "regressor.add(LSTM(units = 50))\n",
    "regressor.add(Dropout(0.2))\n"
   ]
  },
  {
   "cell_type": "code",
   "execution_count": 14,
   "metadata": {},
   "outputs": [
    {
     "name": "stdout",
     "output_type": "stream",
     "text": [
      "Epoch 1/100\n",
      "62/62 [==============================] - 29s 66ms/step - loss: 0.0310\n",
      "Epoch 2/100\n",
      "62/62 [==============================] - 4s 67ms/step - loss: 0.0030\n",
      "Epoch 3/100\n",
      "62/62 [==============================] - 4s 67ms/step - loss: 0.0024\n",
      "Epoch 4/100\n",
      "62/62 [==============================] - 4s 70ms/step - loss: 0.0025\n",
      "Epoch 5/100\n",
      "62/62 [==============================] - 5s 78ms/step - loss: 0.0023\n",
      "Epoch 6/100\n",
      "62/62 [==============================] - 5s 84ms/step - loss: 0.0022\n",
      "Epoch 7/100\n",
      "62/62 [==============================] - 5s 88ms/step - loss: 0.0025\n",
      "Epoch 8/100\n",
      "62/62 [==============================] - 5s 83ms/step - loss: 0.0024\n",
      "Epoch 9/100\n",
      "62/62 [==============================] - 5s 77ms/step - loss: 0.0020\n",
      "Epoch 10/100\n",
      "62/62 [==============================] - 5s 75ms/step - loss: 0.0018\n",
      "Epoch 11/100\n",
      "62/62 [==============================] - 5s 76ms/step - loss: 0.0017\n",
      "Epoch 12/100\n",
      "62/62 [==============================] - 5s 76ms/step - loss: 0.0018\n",
      "Epoch 13/100\n",
      "62/62 [==============================] - 5s 79ms/step - loss: 0.0022\n",
      "Epoch 14/100\n",
      "62/62 [==============================] - 5s 82ms/step - loss: 0.0017\n",
      "Epoch 15/100\n",
      "62/62 [==============================] - 6s 90ms/step - loss: 0.0017\n",
      "Epoch 16/100\n",
      "62/62 [==============================] - 5s 86ms/step - loss: 0.0018\n",
      "Epoch 17/100\n",
      "62/62 [==============================] - 5s 88ms/step - loss: 0.0014\n",
      "Epoch 18/100\n",
      "62/62 [==============================] - 5s 84ms/step - loss: 0.0015\n",
      "Epoch 19/100\n",
      "62/62 [==============================] - 5s 84ms/step - loss: 0.0015\n",
      "Epoch 20/100\n",
      "62/62 [==============================] - 5s 82ms/step - loss: 0.0014\n",
      "Epoch 21/100\n",
      "62/62 [==============================] - 5s 80ms/step - loss: 0.0015\n",
      "Epoch 22/100\n",
      "62/62 [==============================] - 5s 82ms/step - loss: 0.0014\n",
      "Epoch 23/100\n",
      "62/62 [==============================] - 5s 81ms/step - loss: 0.0013\n",
      "Epoch 24/100\n",
      "62/62 [==============================] - 5s 80ms/step - loss: 0.0014\n",
      "Epoch 25/100\n",
      "62/62 [==============================] - 5s 87ms/step - loss: 0.0014\n",
      "Epoch 26/100\n",
      "62/62 [==============================] - 5s 83ms/step - loss: 0.0021\n",
      "Epoch 27/100\n",
      "62/62 [==============================] - 5s 84ms/step - loss: 0.0012\n",
      "Epoch 28/100\n",
      "62/62 [==============================] - 5s 81ms/step - loss: 9.8808e-04\n",
      "Epoch 29/100\n",
      "62/62 [==============================] - 5s 86ms/step - loss: 0.0013\n",
      "Epoch 30/100\n",
      "62/62 [==============================] - 5s 79ms/step - loss: 0.0015\n",
      "Epoch 31/100\n",
      "62/62 [==============================] - 5s 77ms/step - loss: 0.0011\n",
      "Epoch 32/100\n",
      "62/62 [==============================] - 5s 77ms/step - loss: 0.0012\n",
      "Epoch 33/100\n",
      "62/62 [==============================] - 5s 84ms/step - loss: 0.0011\n",
      "Epoch 34/100\n",
      "62/62 [==============================] - 5s 85ms/step - loss: 0.0012\n",
      "Epoch 35/100\n",
      "62/62 [==============================] - 6s 94ms/step - loss: 9.6308e-04\n",
      "Epoch 36/100\n",
      "62/62 [==============================] - 6s 98ms/step - loss: 0.0011\n",
      "Epoch 37/100\n",
      "62/62 [==============================] - 5s 88ms/step - loss: 9.6733e-04\n",
      "Epoch 38/100\n",
      "62/62 [==============================] - 5s 76ms/step - loss: 0.0011\n",
      "Epoch 39/100\n",
      "62/62 [==============================] - 5s 79ms/step - loss: 0.0013\n",
      "Epoch 40/100\n",
      "62/62 [==============================] - 5s 79ms/step - loss: 0.0011\n",
      "Epoch 41/100\n",
      "62/62 [==============================] - 5s 83ms/step - loss: 0.0011\n",
      "Epoch 42/100\n",
      "62/62 [==============================] - 6s 96ms/step - loss: 9.1408e-04\n",
      "Epoch 43/100\n",
      "62/62 [==============================] - 6s 95ms/step - loss: 9.8697e-04\n",
      "Epoch 44/100\n",
      "62/62 [==============================] - 7s 105ms/step - loss: 9.6522e-04\n",
      "Epoch 45/100\n",
      "62/62 [==============================] - 5s 87ms/step - loss: 9.3142e-04\n",
      "Epoch 46/100\n",
      "62/62 [==============================] - 5s 81ms/step - loss: 8.4527e-04\n",
      "Epoch 47/100\n",
      "62/62 [==============================] - 5s 86ms/step - loss: 9.3035e-04\n",
      "Epoch 48/100\n",
      "62/62 [==============================] - 6s 102ms/step - loss: 7.3376e-04\n",
      "Epoch 49/100\n",
      "62/62 [==============================] - 7s 107ms/step - loss: 8.3774e-04\n",
      "Epoch 50/100\n",
      "62/62 [==============================] - 5s 81ms/step - loss: 8.3863e-04\n",
      "Epoch 51/100\n",
      "62/62 [==============================] - 5s 77ms/step - loss: 8.6226e-04\n",
      "Epoch 52/100\n",
      "62/62 [==============================] - 5s 77ms/step - loss: 6.6809e-04\n",
      "Epoch 53/100\n",
      "62/62 [==============================] - 5s 79ms/step - loss: 8.6130e-04\n",
      "Epoch 54/100\n",
      "62/62 [==============================] - 5s 86ms/step - loss: 9.6191e-04\n",
      "Epoch 55/100\n",
      "62/62 [==============================] - 6s 91ms/step - loss: 8.4637e-04\n",
      "Epoch 56/100\n",
      "62/62 [==============================] - 6s 89ms/step - loss: 8.8782e-04\n",
      "Epoch 57/100\n",
      "62/62 [==============================] - 6s 91ms/step - loss: 9.9989e-04\n",
      "Epoch 58/100\n",
      "62/62 [==============================] - 5s 81ms/step - loss: 7.6670e-04\n",
      "Epoch 59/100\n",
      "62/62 [==============================] - 5s 79ms/step - loss: 7.3761e-04\n",
      "Epoch 60/100\n",
      "62/62 [==============================] - 5s 77ms/step - loss: 7.6149e-04\n",
      "Epoch 61/100\n",
      "62/62 [==============================] - 5s 78ms/step - loss: 7.6602e-04\n",
      "Epoch 62/100\n",
      "62/62 [==============================] - 5s 79ms/step - loss: 6.6318e-04\n",
      "Epoch 63/100\n",
      "62/62 [==============================] - 5s 79ms/step - loss: 9.4047e-04\n",
      "Epoch 64/100\n",
      "62/62 [==============================] - 5s 77ms/step - loss: 8.4057e-04\n",
      "Epoch 65/100\n",
      "62/62 [==============================] - 5s 77ms/step - loss: 8.6925e-04: 0s - loss: 8.\n",
      "Epoch 66/100\n",
      "62/62 [==============================] - 5s 76ms/step - loss: 6.8418e-04\n",
      "Epoch 67/100\n",
      "62/62 [==============================] - 5s 81ms/step - loss: 9.6877e-04\n",
      "Epoch 68/100\n",
      "62/62 [==============================] - 5s 78ms/step - loss: 8.6501e-04\n",
      "Epoch 69/100\n",
      "62/62 [==============================] - 5s 77ms/step - loss: 7.6730e-04\n",
      "Epoch 70/100\n",
      "62/62 [==============================] - 5s 78ms/step - loss: 7.1919e-04\n",
      "Epoch 71/100\n",
      "62/62 [==============================] - 5s 78ms/step - loss: 5.9416e-04\n",
      "Epoch 72/100\n",
      "62/62 [==============================] - 5s 80ms/step - loss: 5.7675e-04\n",
      "Epoch 73/100\n",
      "62/62 [==============================] - 5s 79ms/step - loss: 6.8524e-04\n",
      "Epoch 74/100\n",
      "62/62 [==============================] - 5s 78ms/step - loss: 6.7325e-04\n",
      "Epoch 75/100\n",
      "62/62 [==============================] - 5s 77ms/step - loss: 7.6865e-04\n",
      "Epoch 76/100\n",
      "62/62 [==============================] - 5s 79ms/step - loss: 6.0529e-04\n",
      "Epoch 77/100\n",
      "62/62 [==============================] - 5s 78ms/step - loss: 5.9459e-04\n",
      "Epoch 78/100\n",
      "62/62 [==============================] - 5s 79ms/step - loss: 6.4429e-04\n",
      "Epoch 79/100\n",
      "62/62 [==============================] - 5s 79ms/step - loss: 6.5057e-04\n",
      "Epoch 80/100\n",
      "62/62 [==============================] - 5s 78ms/step - loss: 6.7059e-04\n",
      "Epoch 81/100\n",
      "62/62 [==============================] - 5s 78ms/step - loss: 6.3200e-04\n",
      "Epoch 82/100\n",
      "62/62 [==============================] - 5s 79ms/step - loss: 7.8381e-04\n",
      "Epoch 83/100\n",
      "62/62 [==============================] - 5s 80ms/step - loss: 6.0703e-04\n",
      "Epoch 84/100\n",
      "62/62 [==============================] - 5s 79ms/step - loss: 6.9587e-04\n",
      "Epoch 85/100\n",
      "62/62 [==============================] - 5s 80ms/step - loss: 6.1012e-04\n",
      "Epoch 86/100\n",
      "62/62 [==============================] - 5s 78ms/step - loss: 7.0885e-04\n",
      "Epoch 87/100\n",
      "62/62 [==============================] - 5s 79ms/step - loss: 6.8899e-04\n",
      "Epoch 88/100\n",
      "62/62 [==============================] - 5s 79ms/step - loss: 6.4706e-04\n",
      "Epoch 89/100\n",
      "62/62 [==============================] - 5s 79ms/step - loss: 5.5612e-04\n",
      "Epoch 90/100\n",
      "62/62 [==============================] - 5s 78ms/step - loss: 6.2089e-04\n",
      "Epoch 91/100\n",
      "62/62 [==============================] - 5s 79ms/step - loss: 6.1766e-04\n",
      "Epoch 92/100\n",
      "62/62 [==============================] - 5s 80ms/step - loss: 6.6039e-04\n",
      "Epoch 93/100\n",
      "62/62 [==============================] - 5s 79ms/step - loss: 6.5206e-04\n",
      "Epoch 94/100\n",
      "62/62 [==============================] - 5s 78ms/step - loss: 6.2206e-04\n",
      "Epoch 95/100\n",
      "62/62 [==============================] - 5s 80ms/step - loss: 5.6960e-04\n",
      "Epoch 96/100\n",
      "62/62 [==============================] - 5s 78ms/step - loss: 6.1333e-04\n",
      "Epoch 97/100\n",
      "62/62 [==============================] - 5s 79ms/step - loss: 6.7396e-04\n",
      "Epoch 98/100\n",
      "62/62 [==============================] - 5s 79ms/step - loss: 7.0243e-04\n",
      "Epoch 99/100\n",
      "62/62 [==============================] - 5s 81ms/step - loss: 6.7196e-04\n",
      "Epoch 100/100\n",
      "62/62 [==============================] - 5s 80ms/step - loss: 6.6483e-04\n"
     ]
    },
    {
     "data": {
      "text/plain": [
       "<keras.callbacks.History at 0x26b1b7e0d60>"
      ]
     },
     "execution_count": 14,
     "metadata": {},
     "output_type": "execute_result"
    }
   ],
   "source": [
    "# Adding the output layer\n",
    "regressor.add(Dense(units = 1))\n",
    "\n",
    "# Compiling the RNN\n",
    "regressor.compile(optimizer = 'adam', loss = 'mean_squared_error')\n",
    "\n",
    "# Fitting the RNN to the Training set\n",
    "regressor.fit(X_train, y_train, epochs = 100, batch_size = 32)\n",
    "\n"
   ]
  },
  {
   "cell_type": "markdown",
   "metadata": {},
   "source": [
    "## Making the predictions and visualising the results\n"
   ]
  },
  {
   "cell_type": "markdown",
   "metadata": {},
   "source": [
    "## Getting the real stock price of 2017"
   ]
  },
  {
   "cell_type": "code",
   "execution_count": 15,
   "metadata": {},
   "outputs": [],
   "source": [
    "data_test = pd.read_csv('NSE-TATAGLOBAL.csv')\n",
    "real_stock_price = data_test.iloc[:, 1:2].values"
   ]
  },
  {
   "cell_type": "markdown",
   "metadata": {},
   "source": [
    "## Getting the predicted stock price of 2017"
   ]
  },
  {
   "cell_type": "code",
   "execution_count": 16,
   "metadata": {},
   "outputs": [],
   "source": [
    "dataset_total = pd.concat((data['Open'], data_test['Open']), axis = 0)\n",
    "inputs = dataset_total[len(dataset_total) - len(data_test) - 60:].values\n",
    "inputs = inputs.reshape(-1,1)\n",
    "inputs = sc.transform(inputs)\n",
    "X_test = []\n",
    "for i in range(60, 76):\n",
    "    X_test.append(inputs[i-60:i, 0])\n",
    "X_test = np.array(X_test)\n",
    "X_test = np.reshape(X_test, (X_test.shape[0], X_test.shape[1], 1))\n",
    "predicted_stock_price = regressor.predict(X_test)\n",
    "predicted_stock_price = sc.inverse_transform(predicted_stock_price)\n"
   ]
  },
  {
   "cell_type": "markdown",
   "metadata": {},
   "source": [
    "## Visualising the results"
   ]
  },
  {
   "cell_type": "code",
   "execution_count": 17,
   "metadata": {},
   "outputs": [
    {
     "data": {
      "image/png": "[encoded data removed]",
      "text/plain": [
       "<Figure size 432x288 with 1 Axes>"
      ]
     },
     "metadata": {
      "needs_background": "light"
     },
     "output_type": "display_data"
    }
   ],
   "source": [
    "plt.plot(real_stock_price, color = 'red', label = 'Real TATA Stock Price')\n",
    "plt.plot(predicted_stock_price, color = 'blue', label = 'Predicted TAT Stock Price')\n",
    "plt.title('TATA Stock Price Prediction')\n",
    "plt.xlabel('Time')\n",
    "plt.ylabel('TATA Stock Price')\n",
    "plt.legend()\n",
    "plt.show()"
   ]
  }
 ],
 "metadata": {
  "kernelspec": {
   "display_name": "Python 3",
   "language": "python",
   "name": "python3"
  },
  "language_info": {
   "codemirror_mode": {
    "name": "ipython",
    "version": 3
   },
   "file_extension": ".py",
   "mimetype": "text/x-python",
   "name": "python",
   "nbconvert_exporter": "python",
   "pygments_lexer": "ipython3",
   "version": "3.8.8"
  }
 },
 "nbformat": 4,
 "nbformat_minor": 2
}
